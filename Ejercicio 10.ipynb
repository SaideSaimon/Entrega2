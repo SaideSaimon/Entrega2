{
 "cells": [
  {
   "cell_type": "markdown",
   "id": "3ef90715",
   "metadata": {},
   "source": [
    "# Simón Palacios"
   ]
  },
  {
   "cell_type": "markdown",
   "id": "62970db4",
   "metadata": {},
   "source": [
    "## Ejercicio 10 \n",
    ">Generar una estructura con los nombres y la suma de ambas notas en base a los archivos  <font color = 'blue'>* nombre1_txt * </font>, <font color = 'blue'>* eval *</font> y <font color = 'blue'>* eval2 *</font>. Luego calcular la nota promedio entre todos los alumnos e informar aquellos alumnos que tienen un promedio de notas menor al promedio general.  \n",
    "****************\n",
    "### Resolucion\n",
    ">$P_{0}$ Informar alumnos con promedios menores a la media\n",
    ">   * Notas y nombres\n",
    ">   * promedio individual\n",
    ">   * promedio general\n",
    ">\n",
    ">$P_{1}$ Sumar notas\n",
    ">   * notas 1 + notas 2 + notas N\n",
    ">\n",
    ">$P_{2}$ Limpiar caracteres extra\n",
    ">   * nombres -> ascii.letters, notas -> string.digits\n",
    ">   \n",
    ">$P_{3}$ Reconocer datos\n",
    ">   * nombres, notas\n",
    ">   \n",
    ">$P_{4}$ Abrir archivo \n",
    ">   * nombre_archivo, ruta_actual\n",
    "**************"
   ]
  },
  {
   "cell_type": "markdown",
   "id": "87a5b6d1",
   "metadata": {},
   "source": [
    "* $P_{0}$ Informar alumnos con promedios menores a la media  \n",
    "> Para informar los alumnos con el promedio menor al promedio general armé un módulo que recibe como parametro las notas y nombres de los alumnos. Por cada nota calcula el promedio (nota/cant_notas) y lo almacena en una lista. El promedio general se obtiene de la suma de todas las notas dividido la cantidad de notas. Recorro la lista de promedios y  por cada promedio menor al promedio general imprimo en pantalla el nombre y promedio.  "
   ]
  },
  {
   "cell_type": "code",
   "execution_count": null,
   "id": "00b4cdd0",
   "metadata": {},
   "outputs": [],
   "source": [
    "def informar_promedios(notas, nombres):\n",
    "    \"\"\" Recibe como parámetro las notas a promediar y los nombres, ambos\n",
    "    relativos en cuanto a posición \"\"\"\n",
    "    cant_notas = notas.pop()\n",
    "    prom_g = promedio_general(notas)\n",
    "    promedios = promedio_indi(notas, cant_notas)\n",
    "    print(f\"Nombre{' ' * 9}| Prom.\")\n",
    "    print(\"-\" * 30)\n",
    "    for i in range(len(notas)):\n",
    "        if promedios[i] < prom_g:\n",
    "            promedio = float(promedios[i]).__format__(\".4\")\n",
    "            esp = 15 - len(nombres[i])\n",
    "            print(f\"{nombres[i]}{' ' * esp}| {promedio} \")"
   ]
  },
  {
   "cell_type": "markdown",
   "id": "ad5d8f68",
   "metadata": {},
   "source": [
    "$P_{1}$ Sumar notas\n",
    "> Para sumar las notas se recibe como parametro una lista con las notas de cada estudiante por separado. notas = [notas1, notas2, notasN]. Se recorre la lista de notas acumulando los valores del mismo indice en la posicion 0 de la lista. Luego se le agrega la cantidad de notas que se sumaron al final de la lista."
   ]
  },
  {
   "cell_type": "code",
   "execution_count": null,
   "id": "b329ba9c",
   "metadata": {},
   "outputs": [],
   "source": [
    "def sumar_notas(notas):\n",
    "    total = []\n",
    "    for j in range(len(notas) - 1):\n",
    "        total = [notas[0][i] + notas[j + 1][i]\n",
    "                 for i in range(len(notas[0]))]\n",
    "    total.append(len(notas))\n",
    "    return total"
   ]
  },
  {
   "cell_type": "markdown",
   "id": "597ec37f",
   "metadata": {},
   "source": [
    "$P_{2}$ Limpiar caracteres extra\n",
    "> Para limpiar los caracteres arme dos funciones segun el problema. Una para los nombres que filtra los caractéres uno a uno por el conjunto de valores permitidos, luego rearma la palabra\n",
    "y finalmente filtra los elementos de la lista vacios. El modulo *limpiar_nums* hace lo mismo pero antes de devolverlo a su posicion en la lista lo convierte en integer."
   ]
  },
  {
   "cell_type": "code",
   "execution_count": 1,
   "id": "7294dae3",
   "metadata": {},
   "outputs": [],
   "source": [
    "def limpiar_nums(lista):\n",
    "    for i in range(len(lista)):\n",
    "        numero = [dig for dig in lista[i]\n",
    "                  if dig in string.digits]\n",
    "        clear_word = \"\".join(numero)\n",
    "        lista[i] = int(clear_word)\n",
    "    return lista\n",
    "\n",
    "\n",
    "def limpiar_nombres(lista):\n",
    "    valores = string.ascii_letters.join([\"á\", \"é\", \"í\", \"ó\", \"ú\"])\n",
    "    for i in range(len(lista)):\n",
    "        palabra = [char for char in lista[i].lower()\n",
    "                   if char in valores]\n",
    "        clear_word = \"\".join(palabra).capitalize()\n",
    "        lista[i] = clear_word\n",
    "    return list(filter(lambda x: x != '', lista))"
   ]
  },
  {
   "cell_type": "markdown",
   "id": "1e2b63e5",
   "metadata": {},
   "source": [
    "$P_{3}$ Reconocer datos\n",
    ">Para reconocer los datos este modulo recorrer el contenido del archivo que se abrio y cuenta los caracteres que tiene, si son mas letras que digitos devuelve la lista con el valor 'nombres' al final. Sino devuelve la lista con el valor 'digitos' al final."
   ]
  },
  {
   "cell_type": "code",
   "execution_count": null,
   "id": "e56e808f",
   "metadata": {},
   "outputs": [],
   "source": [
    "def reconocer_datos(nombre):\n",
    "    \"\"\" Recibe por parámetro el nombre del archivo a abrir para luego\n",
    "    devolver su contenido como una lista que tiene en su índice -1 el tipo\n",
    "    de dato que contiene.\"\"\"\n",
    "    excluidos = ['\\n', ',', \"'\"]\n",
    "    contenido = abrir_archivo(nombre)\n",
    "    cant_char = {\"str\": 0, \"dig\": 0}\n",
    "    for i in range(len(contenido)):\n",
    "        # tomo cada palabra de la lista y filtro los caracteres excluidos\n",
    "        letras = [char for char in contenido[i]\n",
    "                  if char not in excluidos]\n",
    "        cant_char[\"str\"] += sum(\n",
    "            [1 for c in letras if c in string.ascii_letters])\n",
    "        cant_char[\"dig\"] += sum([1 for c in letras if c in string.digits])\n",
    "\n",
    "    if cant_char[\"str\"] > cant_char[\"dig\"]:\n",
    "        contenido.append(\"nombres\")\n",
    "    else:\n",
    "        contenido.append(\"números\")\n",
    "\n",
    "    return contenido"
   ]
  },
  {
   "cell_type": "markdown",
   "id": "5301dd81",
   "metadata": {},
   "source": [
    "$P_{4}$ Abrir archivo \n",
    "> Para arbrir el archivo se toma el directorio actual y se le concatena el nombre que se recibe por parámetro. Este modulo retorna el contenido del archivo, como elementos separados por salto de linea, en una lista."
   ]
  },
  {
   "cell_type": "code",
   "execution_count": null,
   "id": "c61c633a",
   "metadata": {},
   "outputs": [],
   "source": [
    "def abrir_archivo(*args):\n",
    "    \"\"\" Abre el archivo previamente cargado en 'archivo_nombre'\n",
    "    y retorna su contenido como una lista donde sus elementos están\n",
    "    divididos por un salto de línea\"\"\"\n",
    "    base_path = os.path.abspath(os.path.dirname(__file__))\n",
    "    archivo = os.path.join(base_path, args[0] + '.txt')\n",
    "    with open(archivo, 'r', encoding=\"utf-8\") as fp:\n",
    "        contenido = fp.readlines()\n",
    "    return contenido"
   ]
  }
 ],
 "metadata": {
  "kernelspec": {
   "display_name": "Python 3 (ipykernel)",
   "language": "python",
   "name": "python3"
  },
  "language_info": {
   "codemirror_mode": {
    "name": "ipython",
    "version": 3
   },
   "file_extension": ".py",
   "mimetype": "text/x-python",
   "name": "python",
   "nbconvert_exporter": "python",
   "pygments_lexer": "ipython3",
   "version": "3.10.0"
  }
 },
 "nbformat": 4,
 "nbformat_minor": 5
}
